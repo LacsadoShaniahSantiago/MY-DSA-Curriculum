{
	"metadata": {
		"pycharm": {
			"stem_cell": {
				"cell_type": "raw",
				"source": [],
				"metadata": {
					"collapsed": false
				}
			}
		},
		"kernelspec": {
			"name": "glue_pyspark",
			"display_name": "Glue PySpark",
			"language": "python"
		},
		"language_info": {
			"name": "Python_Glue_Session",
			"mimetype": "text/x-python",
			"codemirror_mode": {
				"name": "python",
				"version": 3
			},
			"pygments_lexer": "python3",
			"file_extension": ".py"
		}
	},
	"nbformat_minor": 4,
	"nbformat": 4,
	"cells": [
		{
			"cell_type": "markdown",
			"source": "# Analytics On AWS workshop\n\nTake your time to read through the instructions provided in this notebook.\n\n#### Learning Objectives\n- Understand how to interactively author Glue ETL scripts using Glue Studio & Jupyter notebooks\n- Use boto3 to call Glue APIs to do Glue administrative and operational activities\n\n**Note:** \n  - **Execute the code blocks one cell at a time.**\n  - **It's a good practice to keep saving the notebook at regular intervals while you work through it.** Read more about saving the notebook here: https://docs.aws.amazon.com/glue/latest/ug/notebook-getting-started.html#save-notebook",
			"metadata": {}
		},
		{
			"cell_type": "markdown",
			"source": "# Initial configuration\n- Lets configure \"session idle timeout\", \"worker type\" and \"number of workers\" with the help of available magics. \n  - **%idle_timeout**: The number of minutes of inactivity after which a session will timeout after a cell has been executed. \n  - **%worker_type**: Type of workers supported by AWS Glue. Default is G.1X.\n  - **%number_of_workers**: The number of workers of a defined worker_type that are allocated when a job runs.\n\n#### Read more about magics supported by AWS Glue interactive sessions for Jupyter here: https://docs.aws.amazon.com/glue/latest/dg/interactive-sessions-magics.html  \n\n#### Execute Code »",
			"metadata": {
				"tags": []
			}
		},
		{
			"cell_type": "code",
			"source": "%idle_timeout 60\n%worker_type G.1X\n%number_of_workers 2",
			"metadata": {
				"trusted": true
			},
			"execution_count": 4,
			"outputs": [
				{
					"name": "stdout",
					"text": "Welcome to the Glue Interactive Sessions Kernel\nFor more information on available magic commands, please type %help in any new cell.\n\nPlease view our Getting Started page to access the most up-to-date information on the Interactive Sessions kernel: https://docs.aws.amazon.com/glue/latest/dg/interactive-sessions.html\nInstalled kernel version: 1.0.7 \nCurrent idle_timeout is None minutes.\nidle_timeout has been set to 60 minutes.\nPrevious worker type: None\nSetting new worker type to: G.1X\nPrevious number of workers: None\nSetting new number of workers to: 2\n",
					"output_type": "stream"
				}
			]
		},
		{
			"cell_type": "markdown",
			"source": "#### Import Libraries \n- In this notebook we will be using the following classes, here are some of the important ones\n    - SparkContext - Main entry point for Spark functionality. A SparkContext represents the connection to a Spark cluster, and can be used to create RDDs, accumulators and broadcast variables on that cluster.\n    - GlueContext - Wraps the Apache SparkSQL SQLContext object, and thereby provides mechanisms for interacting with the Apache Spark platform\n    - boto3 - AWS's Python SDK, we will be using this library to make call to AWS APIs.\n    - awsglue - AWS's pyspark library that provides the needed Python packages and extends PySpark to support serverless ETL on AWS.\n\n#### Execute Code »",
			"metadata": {
				"tags": []
			}
		},
		{
			"cell_type": "code",
			"source": "import sys\nfrom awsglue.transforms import *\nfrom awsglue.utils import getResolvedOptions\nfrom pyspark.context import SparkContext\nfrom awsglue.context import GlueContext\nfrom awsglue.job import Job\nimport boto3\nimport time",
			"metadata": {
				"trusted": true
			},
			"execution_count": 1,
			"outputs": [
				{
					"name": "stdout",
					"text": "Trying to create a Glue session for the kernel.\nSession Type: glueetl\nWorker Type: G.1X\nNumber of Workers: 2\nIdle Timeout: 60\nSession ID: 901cfd2b-6c1a-4339-8cf6-a5b3fe653fa0\nApplying the following default arguments:\n--glue_kernel_version 1.0.7\n--enable-glue-datacatalog true\nWaiting for session 901cfd2b-6c1a-4339-8cf6-a5b3fe653fa0 to get into ready status...\nSession 901cfd2b-6c1a-4339-8cf6-a5b3fe653fa0 has been created.\n\n",
					"output_type": "stream"
				}
			]
		},
		{
			"cell_type": "markdown",
			"source": "# Exploring your raw dataset\n\n- In this step you will:\n    - Create a dynamic frame for your 'raw' table from AWS Glue catalog\n    - Explore the schema of the datasets\n    - Count rows in raw table\n    - View a sample of the data \n\n## Glue Dynamic Frames Basics\n\n- AWS Glue's dynamic data frames is a powerful data structure.\n- They provide a precise representation of the underlying semi-structured data, especially when dealing with columns or fields with varying types.\n- They also provide powerful primitives to deal with nesting and unnesting.\n- A dynamic record is a self-describing record: Each record encodes its columns and types, so every record can have a schema that is unique from all others in the dynamic frame.\n- For ETL, we needed somthing more dynamic, hence we created the Glue Dynamic DataFrames. DDF are an implementaion of DF that relaxes the requiements of having a rigid schema. Its designed for semi-structured data.\n- It maintains a schema per-record, its easy to restucture, tag and modify. \n\n\n#### Read More: https://docs.aws.amazon.com/glue/latest/dg/aws-glue-api-crawler-pyspark-extensions-dynamic-frame.html\n\n#### Execute Code »\n",
			"metadata": {}
		},
		{
			"cell_type": "code",
			"source": "glueContext = GlueContext(SparkContext.getOrCreate())\nspark = glueContext.spark_session",
			"metadata": {
				"trusted": true
			},
			"execution_count": 2,
			"outputs": [
				{
					"name": "stdout",
					"text": "\n",
					"output_type": "stream"
				}
			]
		},
		{
			"cell_type": "markdown",
			"source": "# Create dynamic frame from Glue catalog\n- In this block we are using gluecontext to create a new dynamicframe from glue catalog\n\nOther ways to create dynamicframes in Glue:\n- create_dynamic_frame_from_rdd\n- create_dynamic_frame_from_catalog\n- create_dynamic_frame_from_options\n\n#### Read More:https://docs.aws.amazon.com/glue/latest/dg/aws-glue-api-crawler-pyspark-extensions-glue-context.html\n\n#### Execute Code »",
			"metadata": {}
		},
		{
			"cell_type": "code",
			"source": "raw_data = glueContext.create_dynamic_frame.from_catalog(database=\"analyticsworkshopdb\", table_name=\"raw\")\n\nreference_data = glueContext.create_dynamic_frame.from_catalog(database=\"analyticsworkshopdb\", table_name=\"reference_data\")",
			"metadata": {
				"trusted": true
			},
			"execution_count": 3,
			"outputs": [
				{
					"name": "stdout",
					"text": "\n",
					"output_type": "stream"
				}
			]
		},
		{
			"cell_type": "markdown",
			"source": "# View schema\n- In this step we view the schema of the dynamic frame\n- printSchema( ): Prints the schema of the underlying DataFrame.\n\n#### Execute Code »",
			"metadata": {}
		},
		{
			"cell_type": "code",
			"source": "raw_data.printSchema()",
			"metadata": {
				"trusted": true
			},
			"execution_count": 4,
			"outputs": [
				{
					"name": "stdout",
					"text": "root\n|-- uuid: string\n|-- device_ts: string\n|-- device_id: int\n|-- device_temp: int\n|-- track_id: int\n|-- activity_type: string\n|-- partition_0: string\n|-- partition_1: string\n|-- partition_2: string\n|-- partition_3: string\n",
					"output_type": "stream"
				}
			]
		},
		{
			"cell_type": "code",
			"source": "reference_data.printSchema()",
			"metadata": {
				"trusted": true
			},
			"execution_count": 5,
			"outputs": [
				{
					"name": "stdout",
					"text": "root\n|-- track_id: string\n|-- track_name: string\n|-- artist_name: string\n",
					"output_type": "stream"
				}
			]
		},
		{
			"cell_type": "markdown",
			"source": "# Count records\n- In this step we will count the number of records in the dataframe\n- count( ): Returns the number of rows in the underlying DataFrame\n\n#### Execute Code »",
			"metadata": {}
		},
		{
			"cell_type": "code",
			"source": "print(f'raw_data (count) = {raw_data.count()}')\nprint(f'reference_data (count) = {reference_data.count()}')",
			"metadata": {
				"trusted": true
			},
			"execution_count": 6,
			"outputs": [
				{
					"name": "stdout",
					"text": "raw_data (count) = 12000\nreference_data (count) = 100\n",
					"output_type": "stream"
				}
			]
		},
		{
			"cell_type": "markdown",
			"source": "# Show sample records\n- to.DF() method converts a DynamicFrame to an Apache Spark DataFrame by converting DynamicRecords into DataFrame fields\n- use show() method to display a sample of records in the frame\n- here were are showing the top 5 records in the DF\n\n\n#### Execute Code »",
			"metadata": {
				"tags": []
			}
		},
		{
			"cell_type": "code",
			"source": "raw_data.toDF().show(5)",
			"metadata": {
				"trusted": true
			},
			"execution_count": 7,
			"outputs": [
				{
					"name": "stdout",
					"text": "+--------------------+--------------------+---------+-----------+--------+-------------+-----------+-----------+-----------+-----------+\n|                uuid|           device_ts|device_id|device_temp|track_id|activity_type|partition_0|partition_1|partition_2|partition_3|\n+--------------------+--------------------+---------+-----------+--------+-------------+-----------+-----------+-----------+-----------+\n|df29e35e-37e9-432...|2024-11-12 12:18:...|        4|         32|      25|      Working|       2024|         11|         12|         12|\n|2b192e26-e022-4ab...|2024-11-12 12:18:...|       18|         34|       9|    Traveling|       2024|         11|         12|         12|\n|c74202f2-3726-409...|2024-11-12 12:18:...|        7|         28|      10|      Running|       2024|         11|         12|         12|\n|2870efaf-05aa-45e...|2024-11-12 12:18:...|       49|         32|      10|    Traveling|       2024|         11|         12|         12|\n|a7ec6dbf-d817-484...|2024-11-12 12:18:...|       12|         34|      13|    Traveling|       2024|         11|         12|         12|\n+--------------------+--------------------+---------+-----------+--------+-------------+-----------+-----------+-----------+-----------+\nonly showing top 5 rows\n\n/opt/amazon/spark/python/lib/pyspark.zip/pyspark/sql/dataframe.py:127: UserWarning: DataFrame constructor is internal. Do not directly use it.\n",
					"output_type": "stream"
				}
			]
		},
		{
			"cell_type": "code",
			"source": "reference_data.toDF().show(5)",
			"metadata": {
				"trusted": true
			},
			"execution_count": 8,
			"outputs": [
				{
					"name": "stdout",
					"text": "+--------+-----------+--------------------+\n|track_id| track_name|         artist_name|\n+--------+-----------+--------------------+\n|       1| God's Plan|               Drake|\n|       2|Meant To Be|Bebe Rexha & Flor...|\n|       3|    Perfect|          Ed Sheeran|\n|       4|    Finesse|Bruno Mars & Cardi B|\n|       5|     Psycho|Post Malone Featu...|\n+--------+-----------+--------------------+\nonly showing top 5 rows\n",
					"output_type": "stream"
				}
			]
		},
		{
			"cell_type": "markdown",
			"source": "# Using Spark SQL to explore data\n\n- In Glue, you can leverage Spark's SQL engine to run SQL queries over your data\n- If you have a DynamicFrame called my_dynamic_frame, you can use the following snippet to convert the DynamicFrame to a DataFrame, issue a SQL query, and then convert back to a DynamicFrame\n\n### Spark SQL - Filtering & Counting - activity_type = Running\n- In this block, we will filter & count the number of events with activity_type = Running\n\n#### Execute Code »",
			"metadata": {}
		},
		{
			"cell_type": "code",
			"source": "# Adding raw_data as a temporary table in sql context for spark\n\nraw_data.toDF().createOrReplaceTempView(\"temp_raw_data\")\n\n# Running the SQL statement which \nrunningDF = spark.sql(\"select * from temp_raw_data where activity_type = 'Running'\")\nprint(f'Running (count): {runningDF.count()}')\n\nrunningDF.show(5)",
			"metadata": {
				"trusted": true
			},
			"execution_count": 9,
			"outputs": [
				{
					"name": "stdout",
					"text": "Running (count): 1212\n+--------------------+--------------------+---------+-----------+--------+-------------+-----------+-----------+-----------+-----------+\n|                uuid|           device_ts|device_id|device_temp|track_id|activity_type|partition_0|partition_1|partition_2|partition_3|\n+--------------------+--------------------+---------+-----------+--------+-------------+-----------+-----------+-----------+-----------+\n|c74202f2-3726-409...|2024-11-12 12:18:...|        7|         28|      10|      Running|       2024|         11|         12|         12|\n|91ef72aa-2ec7-4c9...|2024-11-12 12:18:...|       36|         28|      11|      Running|       2024|         11|         12|         12|\n|edcfbd33-de5b-449...|2024-11-12 12:18:...|       45|         34|       7|      Running|       2024|         11|         12|         12|\n|b6544e49-ce90-476...|2024-11-12 12:18:...|       47|         34|      19|      Running|       2024|         11|         12|         12|\n|84d48471-2b96-423...|2024-11-12 12:18:...|       25|         28|      30|      Running|       2024|         11|         12|         12|\n+--------------------+--------------------+---------+-----------+--------+-------------+-----------+-----------+-----------+-----------+\nonly showing top 5 rows\n",
					"output_type": "stream"
				}
			]
		},
		{
			"cell_type": "markdown",
			"source": "### Spark SQL - Filtering & Counting - activity_type = Working\n- In this block, we will filter & count the number of events with activity_type = Working\n\n#### Execute Code »",
			"metadata": {}
		},
		{
			"cell_type": "code",
			"source": "# Running the SQL statement which \nworkingDF = spark.sql(\"select * from temp_raw_data where activity_type = 'Working'\")\nprint(f'Working (count): {workingDF.count()}')\n\nworkingDF.show(5)",
			"metadata": {
				"trusted": true
			},
			"execution_count": 10,
			"outputs": [
				{
					"name": "stdout",
					"text": "Working (count): 2407\n+--------------------+--------------------+---------+-----------+--------+-------------+-----------+-----------+-----------+-----------+\n|                uuid|           device_ts|device_id|device_temp|track_id|activity_type|partition_0|partition_1|partition_2|partition_3|\n+--------------------+--------------------+---------+-----------+--------+-------------+-----------+-----------+-----------+-----------+\n|df29e35e-37e9-432...|2024-11-12 12:18:...|        4|         32|      25|      Working|       2024|         11|         12|         12|\n|eaa0b45d-ecdc-4be...|2024-11-12 12:18:...|       45|         34|      21|      Working|       2024|         11|         12|         12|\n|fcb64bdb-20c8-43d...|2024-11-12 12:18:...|       48|         34|      10|      Working|       2024|         11|         12|         12|\n|04acd29d-419c-43f...|2024-11-12 12:18:...|       25|         28|      14|      Working|       2024|         11|         12|         12|\n|f93ae3ea-10b4-41e...|2024-11-12 12:18:...|       14|         32|      29|      Working|       2024|         11|         12|         12|\n+--------------------+--------------------+---------+-----------+--------+-------------+-----------+-----------+-----------+-----------+\nonly showing top 5 rows\n",
					"output_type": "stream"
				}
			]
		},
		{
			"cell_type": "markdown",
			"source": "### Glue Transforms - Filtering & Counting - activity_type = Running\n- Now, lets perform the same operation using Glue inbuilt transforms\n- We will use the **filter** transform\n- Filter() - Selects records from a DynamicFrame and returns a filtered DynamicFrame.\n- You specify a function, such as a function, which determines whether a record is output (function returns true) or not (function returns false).\n- In this function, we are filtering on the condition activity_type == 'Running'\n\n#### Read More: https://docs.aws.amazon.com/glue/latest/dg/aws-glue-api-crawler-pyspark-transforms-filter.html#aws-glue-api-crawler-pyspark-transforms-filter-example\n\n#### Execute Code »",
			"metadata": {}
		},
		{
			"cell_type": "code",
			"source": "def filter_function(dynamic_record):\n\tif dynamic_record['activity_type'] == 'Running':\n\t\treturn True\n\telse:\n\t\treturn False\nrunningDF = Filter.apply(frame=raw_data, f=filter_function)\n\nprint(f'Running (count): {runningDF.count()}')",
			"metadata": {
				"trusted": true
			},
			"execution_count": 11,
			"outputs": [
				{
					"name": "stdout",
					"text": "Running (count): 1212\n",
					"output_type": "stream"
				}
			]
		},
		{
			"cell_type": "markdown",
			"source": "### Glue Transforms - Filtering & Counting - activity_type = Working (Using python Lambda Expressions)\n- Small anonymous functions can be created with the lambda keyword.\n- Lambda functions can be used wherever function objects are required. They are syntactically restricted to a single expression. \n- Example: This function returns the sum of its two arguments: lambda a, b: a+b.\n\n#### Execute Code »",
			"metadata": {}
		},
		{
			"cell_type": "code",
			"source": "workingDF = Filter.apply(frame=raw_data, f=lambda x: x['activity_type'] == 'Working')\n\nprint(f'Working (count): {workingDF.count()}')",
			"metadata": {
				"trusted": true
			},
			"execution_count": 12,
			"outputs": [
				{
					"name": "stdout",
					"text": "Working (count): 2407\n",
					"output_type": "stream"
				}
			]
		},
		{
			"cell_type": "markdown",
			"source": "### Glue Transforms - Joining two dataframes \n- Performs an equality join on two DynamicFrames.\n- This transforms accepts the following arguments.\n    - frame1: The first DynamicFrame to join\n    - frame2: The second DynamicFrame to join\n    - keys1: The keys to join on for the first frame\n    - keys2: The keys to join on for the second frame\n- In our case we will be joining the these two frames : **raw_data** & **reference_data**\n- We will be joing these two frames on column **track_id**\n\n#### Read More: https://docs.aws.amazon.com/glue/latest/dg/aws-glue-api-crawler-pyspark-transforms-join.html\n\n#### Execute Code »",
			"metadata": {}
		},
		{
			"cell_type": "code",
			"source": "joined_data = Join.apply(raw_data, reference_data, 'track_id', 'track_id')",
			"metadata": {
				"trusted": true
			},
			"execution_count": 13,
			"outputs": [
				{
					"name": "stdout",
					"text": "\n",
					"output_type": "stream"
				}
			]
		},
		{
			"cell_type": "markdown",
			"source": "### View schema\n- In this step we view the schema of the dynamic frame\n- printSchema( ): Prints the schema of the underlying DataFrame.\n\n#### Execute Code »",
			"metadata": {}
		},
		{
			"cell_type": "code",
			"source": "joined_data.printSchema()",
			"metadata": {
				"trusted": true
			},
			"execution_count": 14,
			"outputs": [
				{
					"name": "stdout",
					"text": "root\n|-- track_id: string\n|-- partition_2: string\n|-- activity_type: string\n|-- .track_id: int\n|-- partition_1: string\n|-- device_temp: int\n|-- track_name: string\n|-- artist_name: string\n|-- partition_3: string\n|-- device_ts: string\n|-- device_id: int\n|-- partition_0: string\n|-- uuid: string\n",
					"output_type": "stream"
				}
			]
		},
		{
			"cell_type": "markdown",
			"source": "###### Cleaning up the joined_data dynamicframe\n- Other than the columns we were interested in we have the partition columns\n- These were generated by firehose for placing the files in yyyy/mm/dd/hh directory structure in S3\n- We will use Glue's in-built **DropFields** transform to drop partition columns\n\n#### Read more about AWS Glue transforms here : https://docs.aws.amazon.com/glue/latest/dg/built-in-transforms.html\n\n#### Execute Code »",
			"metadata": {}
		},
		{
			"cell_type": "code",
			"source": "joined_data_clean = DropFields.apply(frame=joined_data, paths=['partition_0','partition_1','partition_2','partition_3'])",
			"metadata": {
				"trusted": true
			},
			"execution_count": 15,
			"outputs": [
				{
					"name": "stdout",
					"text": "\n",
					"output_type": "stream"
				}
			]
		},
		{
			"cell_type": "markdown",
			"source": "### View schema after DropFields transform\n#### Execute Code »",
			"metadata": {}
		},
		{
			"cell_type": "code",
			"source": "joined_data_clean.printSchema()",
			"metadata": {
				"trusted": true
			},
			"execution_count": 16,
			"outputs": [
				{
					"name": "stdout",
					"text": "root\n|-- track_id: string\n|-- activity_type: string\n|-- .track_id: int\n|-- device_temp: int\n|-- track_name: string\n|-- artist_name: string\n|-- device_ts: string\n|-- device_id: int\n|-- uuid: string\n",
					"output_type": "stream"
				}
			]
		},
		{
			"cell_type": "markdown",
			"source": "###### sample data ",
			"metadata": {
				"tags": []
			}
		},
		{
			"cell_type": "code",
			"source": "joined_data_clean.toDF().show(5)",
			"metadata": {
				"trusted": true
			},
			"execution_count": 17,
			"outputs": [
				{
					"name": "stdout",
					"text": "+--------+-------------+---------+-----------+----------+--------------------+--------------------+---------+--------------------+\n|track_id|activity_type|.track_id|device_temp|track_name|         artist_name|           device_ts|device_id|                uuid|\n+--------+-------------+---------+-----------+----------+--------------------+--------------------+---------+--------------------+\n|       4|      Sitting|        4|         34|   Finesse|Bruno Mars & Cardi B|2024-11-12 12:18:...|       33|f8691b1c-4b60-428...|\n|       4|      Running|        4|         34|   Finesse|Bruno Mars & Cardi B|2024-11-12 12:18:...|       48|1eaac44a-47cf-48c...|\n|       4|      Sitting|        4|         40|   Finesse|Bruno Mars & Cardi B|2024-11-12 12:18:...|       19|a41650b0-9c33-46d...|\n|       4|      Working|        4|         28|   Finesse|Bruno Mars & Cardi B|2024-11-12 12:18:...|       32|3f588c97-9b41-484...|\n|       4|      Working|        4|         34|   Finesse|Bruno Mars & Cardi B|2024-11-12 12:18:...|       14|e7d85280-44d2-4e5...|\n+--------+-------------+---------+-----------+----------+--------------------+--------------------+---------+--------------------+\nonly showing top 5 rows\n",
					"output_type": "stream"
				}
			]
		},
		{
			"cell_type": "markdown",
			"source": "# Final step of the transform - Writing transformed data to S3\n- In this step we will be using Glue's write_dynamic_frame functionality to write transformed data to S3\n- We will be storing the transformed data in a different directory & in parquet format\n- make sure you change the S3 bucket name **yourname-analytics-workshop-bucket** to reflect your bucket name \n\n\n---\n- Why parquet format ? \n    - Apache Parquet is a columnar storage formats that is optimized for fast retrieval of data and used in AWS analytical applications.\n    - Columnar storage formats have the following characteristics that make them suitable for using with Athena:\n    Compression by column, with compression algorithm selected for the column data type to save storage space in Amazon S3 and reduce disk space and I/O during query processing.\n    - Predicate pushdown in Parquet and ORC enables queries to fetch only the blocks it needs, improving query performance.\n    - When a  query obtains specific column values from your data, it uses statistics from data block predicates, such as max/min values, to determine whether to read or skip the block.\n    - Splitting of data in Parquet allows analytics tools to split the reading of data to multiple readers and increase parallelism during its query processing.\n    \n#### Execute Code »",
			"metadata": {}
		},
		{
			"cell_type": "code",
			"source": "try:\n    datasink = glueContext.write_dynamic_frame.from_options(\n        frame = joined_data_clean, connection_type=\"s3\",\n        connection_options = {\"path\": \"s3://lacsadoshaniah-analytics-workshop-bucket/data/processed-data/\"},\n        format = \"parquet\")\n    print('Transformed data written to S3')\nexcept Exception as ex:\n    print('Something went wrong')\n    print(ex)",
			"metadata": {
				"trusted": true
			},
			"execution_count": 23,
			"outputs": [
				{
					"name": "stdout",
					"text": "Transformed data written to S3\n",
					"output_type": "stream"
				}
			]
		},
		{
			"cell_type": "markdown",
			"source": "# Using boto3 to run & automate AWS Glue \n\n- Boto is the AWS SDK for Python. It enables Python developers to create, configure, and manage AWS services. Boto provides an easy to use, object-oriented API, as well as low-level access to AWS services.\n\n\n# Add transformed data set to glue catalog\n- Now that you have written your transformed data to S3, we need to add it to the glue catalog so you can query it using athena\n- This block of code takes close to 60 seconds to run, do not terminate or stop the execution\n\n\n#### Execute Code »",
			"metadata": {}
		},
		{
			"cell_type": "code",
			"source": "glueclient = boto3.client('glue', region_name='us-east-1')\n\nresponse = glueclient.start_crawler(Name='AnalyticsworkshopCrawler')\n\nprint('---')\n\ncrawler_state = None\nwhile (crawler_state != 'STOPPING'):\n    response = glueclient.get_crawler(Name='AnalyticsworkshopCrawler')\n    crawler_state = str(response['Crawler']['State'])\n    time.sleep(1)\n\nprint('Crawler Stopped')\nprint('---')\ntime.sleep(3)",
			"metadata": {
				"trusted": true
			},
			"execution_count": 28,
			"outputs": [
				{
					"name": "stdout",
					"text": "---\nCrawler Stopped\n---\n",
					"output_type": "stream"
				}
			]
		},
		{
			"cell_type": "markdown",
			"source": "# Use boto to view the list of tables in analyticsworkshopdb database\n\n#### Execute Code »",
			"metadata": {}
		},
		{
			"cell_type": "code",
			"source": "print('** analyticsworkshopdb has following tables**')\nresponse = glueclient.get_tables(\n    DatabaseName='analyticsworkshopdb',\n)\n\nfor table in response['TableList']:\n    print(table['Name'])",
			"metadata": {
				"trusted": true
			},
			"execution_count": 29,
			"outputs": [
				{
					"name": "stdout",
					"text": "** analyticsworkshopdb has following tables**\nanalyticsonaws_gluedatabrew_job_15nov2024_1731652144902\nemr_processed_data\npart_00000_1efc945e_6998_42de_99d1_ae43ec7fabb5_c000_snappy_parquet\npart_00000_9d6f126d_64b8_4389_aef3_050865e89893_c000_snappy_parquet\npart_00000_ce32b140_6bf5_4a71_8cd6_7abdf202a934_c000_snappy_parquet\npart_00001_1efc945e_6998_42de_99d1_ae43ec7fabb5_c000_snappy_parquet\npart_00001_9d6f126d_64b8_4389_aef3_050865e89893_c000_snappy_parquet\npart_00001_ce32b140_6bf5_4a71_8cd6_7abdf202a934_c000_snappy_parquet\npart_00002_1efc945e_6998_42de_99d1_ae43ec7fabb5_c000_snappy_parquet\npart_00002_9d6f126d_64b8_4389_aef3_050865e89893_c000_snappy_parquet\npart_00002_ce32b140_6bf5_4a71_8cd6_7abdf202a934_c000_snappy_parquet\npart_00003_1efc945e_6998_42de_99d1_ae43ec7fabb5_c000_snappy_parquet\npart_00003_9d6f126d_64b8_4389_aef3_050865e89893_c000_snappy_parquet\npart_00003_ce32b140_6bf5_4a71_8cd6_7abdf202a934_c000_snappy_parquet\nprocessed-data2\nprocessed_data2\nraw\nraw_stream\nreference_data\n",
					"output_type": "stream"
				}
			]
		},
		{
			"cell_type": "markdown",
			"source": "#### Bonus Knowledge\n\n  - After you have finished developing your notebook, you can save the job and then run it. You can find the script in the **Script** tab. Any magics you added to the notebook will be stripped away and won't be saved as part of the script of the generated AWS Glue job. AWS Glue Studio will auto-add a job.commit() to the end of your generated script from the notebook contents.For more information about running jobs, see [Start a job run](https://docs.aws.amazon.com/glue/latest/ug/managing-jobs-chapter.html#start-jobs).\n  - You can schedule this job to run at hourly, daily, weekly, monthly or custom (cron expression) frequency under **Schedules** tab.\n  - You can integrate your job with Git version control systems such as AWS CodeCommit and GitHub. Read more about it [here](https://docs.aws.amazon.com/glue/latest/ug/edit-job-add-source-control-integration.html).",
			"metadata": {}
		},
		{
			"cell_type": "markdown",
			"source": "# \n=========================",
			"metadata": {}
		},
		{
			"cell_type": "markdown",
			"source": "### If you wish you take this notebook and its output back home - you can download / export it using **Download Notebook** option.\n",
			"metadata": {
				"jp-MarkdownHeadingCollapsed": true,
				"tags": []
			}
		},
		{
			"cell_type": "markdown",
			"source": "# NEXT Steps: Go back to the lab guide",
			"metadata": {}
		},
		{
			"cell_type": "markdown",
			"source": "=========================",
			"metadata": {}
		}
	]
}