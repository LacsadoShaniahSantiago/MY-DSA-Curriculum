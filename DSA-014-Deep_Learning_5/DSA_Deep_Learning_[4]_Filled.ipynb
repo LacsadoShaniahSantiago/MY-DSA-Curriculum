{
  "cells": [
    {
      "cell_type": "markdown",
      "metadata": {
        "id": "c3Ew1pEmu05z"
      },
      "source": [
        "# DSA - Deep Learning [4] - Reinforcement learning"
      ]
    },
    {
      "cell_type": "code",
      "execution_count": null,
      "metadata": {
        "id": "51-HV2WWMG8A"
      },
      "outputs": [],
      "source": [
        "# Install necessary libraries\n",
        "# !pip install flappy-bird-gymnasium pygame\n",
        "# !apt-get install -y xvfb python3-opengl ffmpeg\n",
        "# !pip install pyvirtualdisplay\n",
        "# !pip install torch torchvision torchaudio --index-url https://download.pytorch.org/whl/cpu"
      ]
    },
    {
      "cell_type": "code",
      "execution_count": null,
      "metadata": {
        "id": "TCYjQVtsMHbO",
        "colab": {
          "base_uri": "https://localhost:8080/"
        },
        "outputId": "f3f94f4d-0576-46dc-e63a-59b1d2c7ba58"
      },
      "outputs": [
        {
          "output_type": "stream",
          "name": "stdout",
          "text": [
            "pygame 2.6.1 (SDL 2.28.4, Python 3.10.12)\n",
            "Hello from the pygame community. https://www.pygame.org/contribute.html\n"
          ]
        }
      ],
      "source": [
        "# Import necessary libraries\n",
        "import os\n",
        "import torch\n",
        "import random\n",
        "import numpy as np\n",
        "import pygame\n",
        "import imageio\n",
        "from IPython.display import display, Image\n",
        "from PIL import Image as PILImage  # Importing PIL for image manipulation\n",
        "from flappy_bird_gymnasium.envs.flappy_bird_env import FlappyBirdEnv\n",
        "\n",
        "# Set environment variables for rendering and audio in Colab\n",
        "os.environ[\"SDL_VIDEODRIVER\"] = \"dummy\"\n",
        "os.environ[\"SDL_AUDIODRIVER\"] = \"dummy\"\n"
      ]
    },
    {
      "cell_type": "markdown",
      "source": [
        "## Create Environment"
      ],
      "metadata": {
        "id": "0oIqPf3iP671"
      }
    },
    {
      "cell_type": "code",
      "source": [
        "#Flappy Bird Environment as a Class Object\n",
        "class CustomFlappyBirdEnv(FlappyBirdEnv):\n",
        "  def __init__(self):\n",
        "    super().__init__()\n",
        "\n",
        "    #Initialising Flappy Bird Game\n",
        "    pygame.init()\n",
        "    if not pygame.display.get_init():\n",
        "      pygame.display.init()\n",
        "    pygame.display.set_mode((1, 1))\n",
        "\n",
        "    if not pygame.mixer.get_init():\n",
        "      pygame.mixer.init()\n",
        "\n",
        "    self._surface = pygame.Surface((288,512))\n",
        "\n",
        "    self._display = pygame.display.set_mode((288,512))\n",
        "\n",
        "    self._fps_clock = pygame.time.Clock()\n",
        "\n",
        "    self._images = {}\n",
        "\n",
        "    #Calling Game Functions from Imported Game\n",
        "    self._images[\"background\"] = self._load_image(\"background-day.png\")\n",
        "    self._images[\"pipe\"] = [\n",
        "        self._load_image(\"pipe-green.png\"),  # Top pipe\n",
        "        pygame.transform.flip(self._load_image(\"pipe-green.png\"), False, True)  # Bottom pipe (flipped)\n",
        "    ]\n",
        "    self._images[\"base\"] = self._load_image(\"base.png\")\n",
        "    self._images[\"player\"] = [\n",
        "        self._load_image(\"yellowbird-upflap.png\"),\n",
        "        self._load_image(\"yellowbird-midflap.png\"),\n",
        "        self._load_image(\"yellowbird-downflap.png\"),\n",
        "    ]\n",
        "    self._images[\"numbers\"] = {\n",
        "        i: self._load_image(f\"{i}.png\") for i in range(10)  # Load images for digits 0-9\n",
        "    }\n",
        "\n",
        "    self._audio = {\n",
        "        \"wing\": self._load_audio(\"wing.wav\"),\n",
        "        \"point\": self._load_audio(\"point.wav\"),\n",
        "        \"hit\": self._load_audio(\"hit.wav\"),\n",
        "        \"die\": self._load_audio(\"die.wav\")\n",
        "    }\n",
        "\n",
        "    #Setting the attributes of the environment (Flappy Bird Environment)\n",
        "    self._score = 0\n",
        "    self._player_index = 0\n",
        "    self._base_shift = self._images[\"base\"].get_width() - self._surface.get_width()\n",
        "    self._pipes = []\n",
        "    self._player_y = 256\n",
        "    self._player_velocity_y = 0\n",
        "    self._gravity = 1\n",
        "    self._pipe_gap = 100\n",
        "\n",
        "  #Run the image, audio and game\n",
        "  def _load_image(self, filename):\n",
        "    assets_path = \"/usr/local/lib/python3.10/dist-packages/flappy_bird_gymnasium/assets/sprites\"\n",
        "    filepath = os.path.join(assets_path, filename)\n",
        "    return pygame.image.load(filepath).convert_alpha()\n",
        "\n",
        "  def _load_audio(self, filename):\n",
        "    assets_path = \"/usr/local/lib/python3.10/dist-packages/flappy_bird_gymnasium/assets/audio\"\n",
        "    filepath = os.path.join(assets_path, filename)\n",
        "    return pygame.mixer.Sound(filepath)\n",
        "\n",
        "  #To save each frame of the game being played\n",
        "  def render(self):\n",
        "    super.render()\n",
        "\n",
        "    #[Limitation of Google Colab] Cannot see the game being run, instead will return GIF to us to visualise the machine learning.\n",
        "    frame = pygame.surfarray.array3d(pygame.display.get_surface())\n",
        "    self.frames.append(frame)\n",
        "\n",
        "    self._fpg_clock.tick(self.metdata[\"render_fps\"])\n",
        "\n",
        "  #To create a GIF\n",
        "  def create_gif(self, gif_name=\"flappy_bird_game.gif\"):\n",
        "    flipped_frames=[]\n",
        "    for frame in self.frames:\n",
        "      pil_frame = PILImage.fromarray(frame)\n",
        "      flipped_frame = pil_frame.rotate(270, expand=True)\n",
        "      flipped_frames.append(flipped_frame)\n",
        "\n",
        "    flipped_gif_name = gif_name.replace(\".gif\", \"_flipped.gif\")\n",
        "    imageio.mimsave(flipped_gif_name, flipped_frame, duration=1/ self.metadata[\"render_fps\"])\n",
        "    display(Image(flipped_gif_name))\n",
        "\n",
        "  #To reset game\n",
        "  def reset(self):\n",
        "    self.frames = []\n",
        "    return super().reset()\n",
        "\n",
        "\n",
        "#Next lesson complete code, state: 21/11/2024 DSA Lesson"
      ],
      "metadata": {
        "id": "Yye8PsNLylah"
      },
      "execution_count": null,
      "outputs": []
    },
    {
      "cell_type": "markdown",
      "source": [
        "## Define Reward"
      ],
      "metadata": {
        "id": "60SArqmpP_6w"
      }
    },
    {
      "cell_type": "code",
      "source": [
        "class DQN(torch.nn.Module):\n",
        "  def __init__(self, state_size, action_size):\n",
        "    super(DQN, self).__init__()\n",
        "    self.fc1 = torch.nn.Linear(state_size,128)\n",
        "    self.fc2 = torch.nn.Linear(128,129)\n",
        "    self.fc3 = torch.nn.Linear(128,action_size)\n",
        "\n",
        "  #Forward propagation function - movement of calculations/variables in input layers to hidden layer and ending at, outer layer.\n",
        "  def forward(self, x):\n",
        "    x = torch.relu(self.fc1(x))\n",
        "    x = torch.relu(self.fc2(x))\n",
        "    return self.fc3(x)"
      ],
      "metadata": {
        "id": "CdX807gmQ-2s"
      },
      "execution_count": null,
      "outputs": []
    },
    {
      "cell_type": "code",
      "source": [
        "def preprocess_state(state):\n",
        "  #Converting to an array\n",
        "  if isinstance(state, tuple):\n",
        "    observation = state[0]\n",
        "  else:\n",
        "    observation = state\n",
        "\n",
        "  observation = np.array(observation, dtype=np.float32)\n",
        "\n",
        "  #Normalizing data for efficient processing\n",
        "  if observation.max() > 1.0:\n",
        "    observation = observation/255.0\n",
        "\n",
        "  return observation.flatten()"
      ],
      "metadata": {
        "id": "hhSojhgjLoJU"
      },
      "execution_count": null,
      "outputs": []
    },
    {
      "cell_type": "code",
      "source": [
        "#env, frames/nTraing, file saved, savepoint of env\n",
        "def train_dqn(env, num_episodes, model_save_path=\"flappy_bird_dqn_final.pth\", checkpoint_interval=100):\n",
        "  state = preprocess_state(env.reset())\n",
        "  state_size = state.shape[0]\n",
        "  action_size = env.action_space.n\n",
        "\n",
        "  #Optimization of maximum reward\n",
        "  model = DQN(state_size, action_size)\n",
        "  optimizer = torch.optim.Adam(model.parameters(), lr=0.001)\n",
        "  loss_fn = torch.nn.MSELoss()\n",
        "\n",
        "  replay_buffer = []\n",
        "  max_buffer_size = 1000\n",
        "\n",
        "  gamma = 0.90\n",
        "  epsilon = 1.0\n",
        "  epsilon_min = 0.1\n",
        "  epsilon_decay = 0.995\n",
        "\n",
        "  rewards_per_episode = []\n",
        "  steps_per_episode = []\n",
        "\n",
        "  for episode in range(num_episodes):\n",
        "    state = preprocess_state(env.reset())\n",
        "    done = False\n",
        "    total_reward = 0\n",
        "    steps = 0\n",
        "\n",
        "    while not done:\n",
        "      state_tensor = torch.FloatTensor(state).unsqueeze(0)\n",
        "\n",
        "      if random.random() < epsilon:\n",
        "        action = random.choice(range(action_size))\n",
        "      else:\n",
        "        with torch.no_grad():\n",
        "          action = torch.argmax(model(state_tensor)).item()\n",
        "\n",
        "      next_state, reward, done, _, _= env.step(action)\n",
        "      next_state = preprocess_state(next)\n",
        "      total_reward += 1\n",
        "      steps += 1\n",
        "\n",
        "      replay_buffer.append((state, action, reward, next_state, done))\n",
        "      if len(replay_buffer) > max_buffer_size:\n",
        "        replay_buffer.pop(0)\n",
        "\n",
        "      if len(replay_buffer) >= 32:\n",
        "        batch = random.sample(replay_buffer, 32)\n",
        "        states, actions, rewards, next_states, dones = zip(*batch)\n",
        "\n",
        "        states_tensor = torch.FloatTensor(states)\n",
        "        actions_tensor = torch.LongTensor(actions).unsqueeze(1)\n",
        "        rewards_tensor = torch.FloatTensor(rewards).unsqueeze(1)\n",
        "        next_states_tensor = torch.FloatTensor(next_states)\n",
        "        dones_tensor = torch.FloatTensor(dones).unsqueeze(1)\n",
        "\n",
        "        q_values = model(states_tensor).gather(1, actions_tensor)\n",
        "\n",
        "        with torch.no_grad():\n",
        "          next_q_values = model(next_states_tensor).max(1, keepdim=True)[0]\n",
        "          targets = rewards_tensor + gamma * next_q_values * (1 - dones_tensor)\n",
        "\n",
        "        loss = loss_fn(q_values,targets)\n",
        "\n",
        "        #Backwards propagation\n",
        "        optimizer.zero_grad()\n",
        "        loss.backward()\n",
        "        optimizer.step()\n",
        "\n",
        "      state = next_state\n",
        "\n",
        "      if epsilon > epsilon_min:\n",
        "        epsilon *= epsilon_decay\n",
        "\n",
        "      rewards_per_episode.append(total_reward)\n",
        "      steps_per_episode.append(steps)\n",
        "\n",
        "      #Display Metrics\n",
        "      print(\n",
        "          f\"Total Rewards = {total_reward:.2f}, \"\n",
        "          f\"Steps = {steps}, \"\n",
        "          f\"Epsilon = {epsilon:.4f}\"\n",
        "      )\n",
        "\n",
        "      #Save model\n",
        "      if (episode + 1) % checkpoint_interval == 0:\n",
        "        checkpoint_path = model_save_path.replace(\".pth\", f\"_ep{episode + 1}.pth\")\n",
        "        torch.save(model.state_dict(), checkpoint_path)\n",
        "        print(f\"Checkpoint saved at episode {episode + 1}: {checkpoint_path}\")\n",
        "\n",
        "        torch.save(model.state_dict(), model_save_path)\n",
        "        print(f\"Final model saved to {model_save_path}\")\n",
        "\n",
        "        print(f\"Training completed. Average Reward: {np.mean(rewards_per_episode):.2f}, Average Steps: {np.mean(steps_per_episode):.2f}\")\n",
        "\n",
        "        return model, rewards_per_episode, steps_per_episode"
      ],
      "metadata": {
        "id": "pX1U0sGoVG2D"
      },
      "execution_count": null,
      "outputs": []
    },
    {
      "cell_type": "code",
      "source": [
        "def load_model(env, model_path=\"flappy_bird_dqn_final.pth\"):\n",
        "  state = preprocess_state(env.reset())\n",
        "  state_size = state.shape[0]\n",
        "  action_size = env.action_space.n\n",
        "\n",
        "  model = DQN(state_size, action_size)\n",
        "  model.load_state_dict(torch.load(model_path))\n",
        "  model.eval()\n",
        "\n",
        "  return model"
      ],
      "metadata": {
        "id": "Cx9UvKj_gh36"
      },
      "execution_count": null,
      "outputs": []
    },
    {
      "cell_type": "code",
      "source": [
        "def test_rl_agent_playing(env, model, step_limit=500):\n",
        "  state = preprocess_state(env.reset())\n",
        "\n",
        "  for step in range (step_limit):\n",
        "    print(f\"Step {step}: State Shape: {state.shape}, State Type: {type(state)}\")\n",
        "\n",
        "    state_tensor = torch.FloatTensor(state).unsqueeze(0)\n",
        "\n",
        "    with torch.no_grad():\n",
        "      action = torch.argmax(model(state_tensor)).item()\n",
        "\n",
        "      next_state, reward, done, _, _ = env.step(action)\n",
        "      next_state = preprocess_state(next_state)\n",
        "\n",
        "      print(f\"Step {step + 1}: Reward: {reward}, Done: {done}\")\n",
        "\n",
        "      env.render()\n",
        "\n",
        "      if done:\n",
        "        break\n",
        "\n",
        "      state = next_state\n",
        "\n",
        "    env.create_gif(\"flappy_bird_rl_agent.gif\")"
      ],
      "metadata": {
        "id": "2x9bMIY3g5VV"
      },
      "execution_count": null,
      "outputs": []
    },
    {
      "cell_type": "code",
      "source": [
        "env = CustomFlappyBirdEnv()"
      ],
      "metadata": {
        "id": "lkohY_P7iesM"
      },
      "execution_count": null,
      "outputs": []
    },
    {
      "cell_type": "code",
      "source": [
        "model = train_dqn(env, num_episodes=500, model_save_path=\"flappy_bird_dqn_final.pth\", checkpoint_interval=1000)"
      ],
      "metadata": {
        "colab": {
          "base_uri": "https://localhost:8080/",
          "height": 287
        },
        "id": "7r9rlEq8iTT0",
        "outputId": "4470c2b1-103b-4fc8-e7f3-f78ffe48e9b0"
      },
      "execution_count": null,
      "outputs": [
        {
          "output_type": "error",
          "ename": "TypeError",
          "evalue": "float() argument must be a string or a real number, not 'builtin_function_or_method'",
          "traceback": [
            "\u001b[0;31m---------------------------------------------------------------------------\u001b[0m",
            "\u001b[0;31mTypeError\u001b[0m                                 Traceback (most recent call last)",
            "\u001b[0;32m<ipython-input-11-27a198b57389>\u001b[0m in \u001b[0;36m<cell line: 1>\u001b[0;34m()\u001b[0m\n\u001b[0;32m----> 1\u001b[0;31m \u001b[0mmodel\u001b[0m \u001b[0;34m=\u001b[0m \u001b[0mtrain_dqn\u001b[0m\u001b[0;34m(\u001b[0m\u001b[0menv\u001b[0m\u001b[0;34m,\u001b[0m \u001b[0mnum_episodes\u001b[0m\u001b[0;34m=\u001b[0m\u001b[0;36m500\u001b[0m\u001b[0;34m,\u001b[0m \u001b[0mmodel_save_path\u001b[0m\u001b[0;34m=\u001b[0m\u001b[0;34m\"flappy_bird_dqn_final.pth\"\u001b[0m\u001b[0;34m,\u001b[0m \u001b[0mcheckpoint_interval\u001b[0m\u001b[0;34m=\u001b[0m\u001b[0;36m1000\u001b[0m\u001b[0;34m)\u001b[0m\u001b[0;34m\u001b[0m\u001b[0;34m\u001b[0m\u001b[0m\n\u001b[0m",
            "\u001b[0;32m<ipython-input-6-a45e438bc690>\u001b[0m in \u001b[0;36mtrain_dqn\u001b[0;34m(env, num_episodes, model_save_path, checkpoint_interval)\u001b[0m\n\u001b[1;32m     37\u001b[0m \u001b[0;34m\u001b[0m\u001b[0m\n\u001b[1;32m     38\u001b[0m       \u001b[0mnext_state\u001b[0m\u001b[0;34m,\u001b[0m \u001b[0mreward\u001b[0m\u001b[0;34m,\u001b[0m \u001b[0mdone\u001b[0m\u001b[0;34m,\u001b[0m \u001b[0m_\u001b[0m\u001b[0;34m,\u001b[0m \u001b[0m_\u001b[0m\u001b[0;34m=\u001b[0m \u001b[0menv\u001b[0m\u001b[0;34m.\u001b[0m\u001b[0mstep\u001b[0m\u001b[0;34m(\u001b[0m\u001b[0maction\u001b[0m\u001b[0;34m)\u001b[0m\u001b[0;34m\u001b[0m\u001b[0;34m\u001b[0m\u001b[0m\n\u001b[0;32m---> 39\u001b[0;31m       \u001b[0mnext_state\u001b[0m \u001b[0;34m=\u001b[0m \u001b[0mpreprocess_state\u001b[0m\u001b[0;34m(\u001b[0m\u001b[0mnext\u001b[0m\u001b[0;34m)\u001b[0m\u001b[0;34m\u001b[0m\u001b[0;34m\u001b[0m\u001b[0m\n\u001b[0m\u001b[1;32m     40\u001b[0m       \u001b[0mtotal_reward\u001b[0m \u001b[0;34m+=\u001b[0m \u001b[0;36m1\u001b[0m\u001b[0;34m\u001b[0m\u001b[0;34m\u001b[0m\u001b[0m\n\u001b[1;32m     41\u001b[0m       \u001b[0msteps\u001b[0m \u001b[0;34m+=\u001b[0m \u001b[0;36m1\u001b[0m\u001b[0;34m\u001b[0m\u001b[0;34m\u001b[0m\u001b[0m\n",
            "\u001b[0;32m<ipython-input-5-01dd7c6a4f2f>\u001b[0m in \u001b[0;36mpreprocess_state\u001b[0;34m(state)\u001b[0m\n\u001b[1;32m      6\u001b[0m     \u001b[0mobservation\u001b[0m \u001b[0;34m=\u001b[0m \u001b[0mstate\u001b[0m\u001b[0;34m\u001b[0m\u001b[0;34m\u001b[0m\u001b[0m\n\u001b[1;32m      7\u001b[0m \u001b[0;34m\u001b[0m\u001b[0m\n\u001b[0;32m----> 8\u001b[0;31m   \u001b[0mobservation\u001b[0m \u001b[0;34m=\u001b[0m \u001b[0mnp\u001b[0m\u001b[0;34m.\u001b[0m\u001b[0marray\u001b[0m\u001b[0;34m(\u001b[0m\u001b[0mobservation\u001b[0m\u001b[0;34m,\u001b[0m \u001b[0mdtype\u001b[0m\u001b[0;34m=\u001b[0m\u001b[0mnp\u001b[0m\u001b[0;34m.\u001b[0m\u001b[0mfloat32\u001b[0m\u001b[0;34m)\u001b[0m\u001b[0;34m\u001b[0m\u001b[0;34m\u001b[0m\u001b[0m\n\u001b[0m\u001b[1;32m      9\u001b[0m \u001b[0;34m\u001b[0m\u001b[0m\n\u001b[1;32m     10\u001b[0m   \u001b[0;31m#Normalizing data for efficient processing\u001b[0m\u001b[0;34m\u001b[0m\u001b[0;34m\u001b[0m\u001b[0m\n",
            "\u001b[0;31mTypeError\u001b[0m: float() argument must be a string or a real number, not 'builtin_function_or_method'"
          ]
        }
      ]
    },
    {
      "cell_type": "code",
      "source": [
        "model = load_model(env, \"flappy_bird_dqn_final_ep4000.pth\")\n",
        "\n",
        "test_rl_agent_playing(env, model)"
      ],
      "metadata": {
        "id": "Pim-z0uijEET"
      },
      "execution_count": null,
      "outputs": []
    }
  ],
  "metadata": {
    "colab": {
      "provenance": [],
      "gpuType": "T4"
    },
    "kernelspec": {
      "display_name": "Python 3",
      "name": "python3"
    },
    "language_info": {
      "name": "python"
    },
    "accelerator": "GPU"
  },
  "nbformat": 4,
  "nbformat_minor": 0
}